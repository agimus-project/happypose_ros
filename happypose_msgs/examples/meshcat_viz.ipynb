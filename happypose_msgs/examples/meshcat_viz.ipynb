{
 "cells": [
  {
   "cell_type": "markdown",
   "metadata": {},
   "source": [
    "## Simple example of usage of symmetries discretization\n",
    "\n",
    "This example will walk you through the usage of the discretization function found in `happypose_msgs_py`.\n",
    "Note, this example requires additional dependency in a form of [MeshCat](https://pypi.org/project/meshcat/) which has to be installed manually.\n",
    "\n",
    "Additionally, the user has to update `PYTHONPATH` variable used inside Jupyter notebook to account for dependencies found in their ROS 2 installation and build dependencies of `happypose_msgs` build in their Colcon workspace. Code cell will help to make those changes."
   ]
  },
  {
   "cell_type": "code",
   "execution_count": null,
   "metadata": {},
   "outputs": [],
   "source": [
    "# Add ROS 2 install path and your Colcon workspace to PYTHONPATH in Jupyter\n",
    "import os\n",
    "import sys\n",
    "from pathlib import Path\n",
    "\n",
    "# Modify this path to mach you Colcon workspace. The path has to be global\n",
    "my_colcon_ws_path = Path(\"/home/gepetto/ros2_ws\")\n",
    "\n",
    "python_version = f\"python{sys.version_info.major}.{sys.version_info.minor}\"\n",
    "dist_package_path = Path(\"local\") / \"lib\" / python_version / \"dist-packages\"\n",
    "ros_path = Path(\"/opt\") / \"ros\" / os.environ['ROS_DISTRO'] / dist_package_path\n",
    "colson_ws_path = my_colcon_ws_path / \"install\" / \"happypose_msgs\" / dist_package_path\n",
    "sys.path.append(ros_path.as_posix())\n",
    "sys.path.append(colson_ws_path.as_posix())"
   ]
  },
  {
   "cell_type": "code",
   "execution_count": null,
   "metadata": {},
   "outputs": [],
   "source": [
    "import time\n",
    "\n",
    "import meshcat\n",
    "import meshcat.geometry as g\n",
    "\n",
    "from geometry_msgs.msg import Vector3\n",
    "from happypose_msgs_py.symmetries import discretize_symmetries\n",
    "from happypose_msgs.msg import ContinuousSymmetry, ObjectSymmetries\n",
    "\n",
    "# Generate input ROS message with symmetries\n",
    "input_msg = ObjectSymmetries(\n",
    "    symmetries_discrete=[],\n",
    "    symmetries_continuous=[\n",
    "        ContinuousSymmetry(\n",
    "            axis=Vector3(x=0.0, y=0.0, z=1.0),\n",
    "            offset=Vector3(x=0.0, y=0.0, z=0.0),\n",
    "        )\n",
    "    ],\n",
    ")\n",
    "\n",
    "# Discretize symmetries from the message\n",
    "res = discretize_symmetries(input_msg, n_symmetries_continuous=64)"
   ]
  },
  {
   "cell_type": "markdown",
   "metadata": {},
   "source": [
    "Create MeshCat window to display simple mesh rotating around our symmetries"
   ]
  },
  {
   "cell_type": "code",
   "execution_count": null,
   "metadata": {},
   "outputs": [],
   "source": [
    "vis = meshcat.Visualizer()\n",
    "vis.jupyter_cell()"
   ]
  },
  {
   "cell_type": "markdown",
   "metadata": {},
   "source": [
    "Load mesh of Valkyrie robot head and spin it around our symmetry axis"
   ]
  },
  {
   "cell_type": "code",
   "execution_count": 4,
   "metadata": {},
   "outputs": [],
   "source": [
    "assests_path = Path(meshcat.viewer_assets_path()) / \"data\"\n",
    "\n",
    "vis[\"robots/valkyrie/head\"].set_object(\n",
    "    g.ObjMeshGeometry.from_file(assests_path / \"head_multisense.obj\"),\n",
    "    g.MeshLambertMaterial(\n",
    "        map=g.ImageTexture(\n",
    "            image=g.PngImage.from_file(assests_path / \"HeadTextureMultisense.png\")\n",
    "        )\n",
    "    ),\n",
    ")\n",
    "\n",
    "for r in res:\n",
    "    # Apply our symmetry transformation in a form of matrix\n",
    "    vis[\"robots/valkyrie/head\"].set_transform(r)\n",
    "    time.sleep(0.1)"
   ]
  }
 ],
 "metadata": {
  "kernelspec": {
   "display_name": "Python 3",
   "language": "python",
   "name": "python3"
  },
  "language_info": {
   "codemirror_mode": {
    "name": "ipython",
    "version": 3
   },
   "file_extension": ".py",
   "mimetype": "text/x-python",
   "name": "python",
   "nbconvert_exporter": "python",
   "pygments_lexer": "ipython3",
   "version": "3.10.12"
  }
 },
 "nbformat": 4,
 "nbformat_minor": 2
}
